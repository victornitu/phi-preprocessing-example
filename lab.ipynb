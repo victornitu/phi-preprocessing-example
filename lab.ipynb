{
 "cells": [
  {
   "cell_type": "markdown",
   "metadata": {},
   "source": [
    "# Event-Driven Data Preprocessing Lab"
   ]
  },
  {
   "cell_type": "markdown",
   "metadata": {},
   "source": [
    "## Setup"
   ]
  },
  {
   "cell_type": "markdown",
   "metadata": {},
   "source": [
    "1. We need to install kafka-python and PyMongo"
   ]
  },
  {
   "cell_type": "code",
   "execution_count": 1,
   "metadata": {},
   "outputs": [
    {
     "name": "stdout",
     "output_type": "stream",
     "text": [
      "Requirement already satisfied: kafka-python in ./.venv/lib/python3.8/site-packages (2.0.1)\n",
      "Requirement already satisfied: pymongo in ./.venv/lib/python3.8/site-packages (3.10.1)\n",
      "Requirement already satisfied: pandas in ./.venv/lib/python3.8/site-packages (1.0.3)\n",
      "Requirement already satisfied: matplotlib in ./.venv/lib/python3.8/site-packages (3.2.1)\n",
      "Requirement already satisfied: pytz>=2017.2 in ./.venv/lib/python3.8/site-packages (from pandas) (2020.1)\n",
      "Requirement already satisfied: numpy>=1.13.3 in ./.venv/lib/python3.8/site-packages (from pandas) (1.18.3)\n",
      "Requirement already satisfied: python-dateutil>=2.6.1 in ./.venv/lib/python3.8/site-packages (from pandas) (2.8.1)\n",
      "Requirement already satisfied: cycler>=0.10 in ./.venv/lib/python3.8/site-packages (from matplotlib) (0.10.0)\n",
      "Requirement already satisfied: kiwisolver>=1.0.1 in ./.venv/lib/python3.8/site-packages (from matplotlib) (1.2.0)\n",
      "Requirement already satisfied: pyparsing!=2.0.4,!=2.1.2,!=2.1.6,>=2.0.1 in ./.venv/lib/python3.8/site-packages (from matplotlib) (2.4.7)\n",
      "Requirement already satisfied: six>=1.5 in ./.venv/lib/python3.8/site-packages (from python-dateutil>=2.6.1->pandas) (1.14.0)\n",
      "\u001b[33mWARNING: You are using pip version 19.2.3, however version 20.0.2 is available.\n",
      "You should consider upgrading via the 'pip install --upgrade pip' command.\u001b[0m\n"
     ]
    }
   ],
   "source": [
    "!pip install kafka-python pymongo pandas matplotlib"
   ]
  },
  {
   "cell_type": "markdown",
   "metadata": {},
   "source": [
    "2. We import **kafka-python** and **PyMongo** to read events and entities.   \n",
    "We also import extra libraries for json manipulation:  \n",
    "`JSON` and `json.loads` will help us to visualize the generated json."
   ]
  },
  {
   "cell_type": "code",
   "execution_count": 2,
   "metadata": {},
   "outputs": [],
   "source": [
    "from IPython.display import JSON\n",
    "import json\n",
    "import pandas as pd\n",
    "import matplotlib.pyplot as plt\n",
    "from kafka import KafkaConsumer\n",
    "from pymongo import MongoClient"
   ]
  },
  {
   "cell_type": "markdown",
   "metadata": {},
   "source": [
    "3. We set the addresses: kafka, mongo, inspector"
   ]
  },
  {
   "cell_type": "code",
   "execution_count": 3,
   "metadata": {},
   "outputs": [],
   "source": [
    "event_store = 'localhost:9092'\n",
    "entity_store = 'mongodb://localhost:27017/'\n",
    "inspector_api = 'http://localhost:8082/v1.0'"
   ]
  },
  {
   "cell_type": "markdown",
   "metadata": {},
   "source": [
    "## Entities"
   ]
  },
  {
   "cell_type": "markdown",
   "metadata": {},
   "source": [
    "Query products directly from the database:"
   ]
  },
  {
   "cell_type": "code",
   "execution_count": 4,
   "metadata": {},
   "outputs": [
    {
     "data": {
      "text/plain": [
       "[{'_id': ObjectId('5ea931a24a0583da3d76cc08'),\n",
       "  'name': 'Sugar',\n",
       "  'watched': 34,\n",
       "  'bought': 12},\n",
       " {'_id': ObjectId('5ea931a44a0583da3d76cc0d'),\n",
       "  'name': 'Salt',\n",
       "  'watched': 19,\n",
       "  'bought': 17},\n",
       " {'_id': ObjectId('5ea931a64a0583da3d76cc12'),\n",
       "  'name': 'Pepper',\n",
       "  'watched': 10,\n",
       "  'bought': 12}]"
      ]
     },
     "execution_count": 4,
     "metadata": {},
     "output_type": "execute_result"
    }
   ],
   "source": [
    "client = MongoClient(entity_store)\n",
    "products = [product for product in client.entities.products.find()]\n",
    "products"
   ]
  },
  {
   "cell_type": "markdown",
   "metadata": {},
   "source": [
    "Build a DataFrame from the result of the database query:"
   ]
  },
  {
   "cell_type": "code",
   "execution_count": 5,
   "metadata": {},
   "outputs": [
    {
     "data": {
      "text/html": [
       "<div>\n",
       "<style scoped>\n",
       "    .dataframe tbody tr th:only-of-type {\n",
       "        vertical-align: middle;\n",
       "    }\n",
       "\n",
       "    .dataframe tbody tr th {\n",
       "        vertical-align: top;\n",
       "    }\n",
       "\n",
       "    .dataframe thead th {\n",
       "        text-align: right;\n",
       "    }\n",
       "</style>\n",
       "<table border=\"1\" class=\"dataframe\">\n",
       "  <thead>\n",
       "    <tr style=\"text-align: right;\">\n",
       "      <th></th>\n",
       "      <th>_id</th>\n",
       "      <th>name</th>\n",
       "      <th>watched</th>\n",
       "      <th>bought</th>\n",
       "    </tr>\n",
       "  </thead>\n",
       "  <tbody>\n",
       "    <tr>\n",
       "      <th>0</th>\n",
       "      <td>5ea931a24a0583da3d76cc08</td>\n",
       "      <td>Sugar</td>\n",
       "      <td>34</td>\n",
       "      <td>12</td>\n",
       "    </tr>\n",
       "    <tr>\n",
       "      <th>1</th>\n",
       "      <td>5ea931a44a0583da3d76cc0d</td>\n",
       "      <td>Salt</td>\n",
       "      <td>19</td>\n",
       "      <td>17</td>\n",
       "    </tr>\n",
       "    <tr>\n",
       "      <th>2</th>\n",
       "      <td>5ea931a64a0583da3d76cc12</td>\n",
       "      <td>Pepper</td>\n",
       "      <td>10</td>\n",
       "      <td>12</td>\n",
       "    </tr>\n",
       "  </tbody>\n",
       "</table>\n",
       "</div>"
      ],
      "text/plain": [
       "                        _id    name  watched  bought\n",
       "0  5ea931a24a0583da3d76cc08   Sugar       34      12\n",
       "1  5ea931a44a0583da3d76cc0d    Salt       19      17\n",
       "2  5ea931a64a0583da3d76cc12  Pepper       10      12"
      ]
     },
     "execution_count": 5,
     "metadata": {},
     "output_type": "execute_result"
    }
   ],
   "source": [
    "df = pd.DataFrame(products)\n",
    "df"
   ]
  },
  {
   "cell_type": "markdown",
   "metadata": {},
   "source": [
    "Clean up products:"
   ]
  },
  {
   "cell_type": "code",
   "execution_count": 6,
   "metadata": {},
   "outputs": [
    {
     "data": {
      "text/html": [
       "<div>\n",
       "<style scoped>\n",
       "    .dataframe tbody tr th:only-of-type {\n",
       "        vertical-align: middle;\n",
       "    }\n",
       "\n",
       "    .dataframe tbody tr th {\n",
       "        vertical-align: top;\n",
       "    }\n",
       "\n",
       "    .dataframe thead th {\n",
       "        text-align: right;\n",
       "    }\n",
       "</style>\n",
       "<table border=\"1\" class=\"dataframe\">\n",
       "  <thead>\n",
       "    <tr style=\"text-align: right;\">\n",
       "      <th></th>\n",
       "      <th>watched</th>\n",
       "      <th>bought</th>\n",
       "    </tr>\n",
       "    <tr>\n",
       "      <th>name</th>\n",
       "      <th></th>\n",
       "      <th></th>\n",
       "    </tr>\n",
       "  </thead>\n",
       "  <tbody>\n",
       "    <tr>\n",
       "      <th>Sugar</th>\n",
       "      <td>34</td>\n",
       "      <td>12</td>\n",
       "    </tr>\n",
       "    <tr>\n",
       "      <th>Salt</th>\n",
       "      <td>19</td>\n",
       "      <td>17</td>\n",
       "    </tr>\n",
       "    <tr>\n",
       "      <th>Pepper</th>\n",
       "      <td>10</td>\n",
       "      <td>12</td>\n",
       "    </tr>\n",
       "  </tbody>\n",
       "</table>\n",
       "</div>"
      ],
      "text/plain": [
       "        watched  bought\n",
       "name                   \n",
       "Sugar        34      12\n",
       "Salt         19      17\n",
       "Pepper       10      12"
      ]
     },
     "execution_count": 6,
     "metadata": {},
     "output_type": "execute_result"
    }
   ],
   "source": [
    "products = df.drop(['_id'], axis=1).fillna(0).set_index('name')\n",
    "products"
   ]
  },
  {
   "cell_type": "markdown",
   "metadata": {},
   "source": [
    "Calculate the conversion rate for each product:"
   ]
  },
  {
   "cell_type": "code",
   "execution_count": 7,
   "metadata": {},
   "outputs": [
    {
     "data": {
      "text/html": [
       "<div>\n",
       "<style scoped>\n",
       "    .dataframe tbody tr th:only-of-type {\n",
       "        vertical-align: middle;\n",
       "    }\n",
       "\n",
       "    .dataframe tbody tr th {\n",
       "        vertical-align: top;\n",
       "    }\n",
       "\n",
       "    .dataframe thead th {\n",
       "        text-align: right;\n",
       "    }\n",
       "</style>\n",
       "<table border=\"1\" class=\"dataframe\">\n",
       "  <thead>\n",
       "    <tr style=\"text-align: right;\">\n",
       "      <th></th>\n",
       "      <th>watched</th>\n",
       "      <th>bought</th>\n",
       "      <th>conversion_rate</th>\n",
       "    </tr>\n",
       "    <tr>\n",
       "      <th>name</th>\n",
       "      <th></th>\n",
       "      <th></th>\n",
       "      <th></th>\n",
       "    </tr>\n",
       "  </thead>\n",
       "  <tbody>\n",
       "    <tr>\n",
       "      <th>Sugar</th>\n",
       "      <td>34</td>\n",
       "      <td>12</td>\n",
       "      <td>35.29</td>\n",
       "    </tr>\n",
       "    <tr>\n",
       "      <th>Salt</th>\n",
       "      <td>19</td>\n",
       "      <td>17</td>\n",
       "      <td>89.47</td>\n",
       "    </tr>\n",
       "    <tr>\n",
       "      <th>Pepper</th>\n",
       "      <td>10</td>\n",
       "      <td>12</td>\n",
       "      <td>120.00</td>\n",
       "    </tr>\n",
       "  </tbody>\n",
       "</table>\n",
       "</div>"
      ],
      "text/plain": [
       "        watched  bought  conversion_rate\n",
       "name                                    \n",
       "Sugar        34      12            35.29\n",
       "Salt         19      17            89.47\n",
       "Pepper       10      12           120.00"
      ]
     },
     "execution_count": 7,
     "metadata": {},
     "output_type": "execute_result"
    }
   ],
   "source": [
    "def calculate_conversion_rate(product):\n",
    "    rate = product.bought / product.watched\n",
    "    return round(rate * 100, 2)\n",
    "\n",
    "products['conversion_rate'] = products.apply(calculate_conversion_rate, axis=1)\n",
    "products"
   ]
  },
  {
   "cell_type": "markdown",
   "metadata": {},
   "source": [
    "Categorize products by `good` and `bad` conversion rate:"
   ]
  },
  {
   "cell_type": "code",
   "execution_count": 8,
   "metadata": {},
   "outputs": [
    {
     "data": {
      "text/html": [
       "<div>\n",
       "<style scoped>\n",
       "    .dataframe tbody tr th:only-of-type {\n",
       "        vertical-align: middle;\n",
       "    }\n",
       "\n",
       "    .dataframe tbody tr th {\n",
       "        vertical-align: top;\n",
       "    }\n",
       "\n",
       "    .dataframe thead th {\n",
       "        text-align: right;\n",
       "    }\n",
       "</style>\n",
       "<table border=\"1\" class=\"dataframe\">\n",
       "  <thead>\n",
       "    <tr style=\"text-align: right;\">\n",
       "      <th></th>\n",
       "      <th>watched</th>\n",
       "      <th>bought</th>\n",
       "      <th>conversion_rate</th>\n",
       "      <th>conversion</th>\n",
       "    </tr>\n",
       "    <tr>\n",
       "      <th>name</th>\n",
       "      <th></th>\n",
       "      <th></th>\n",
       "      <th></th>\n",
       "      <th></th>\n",
       "    </tr>\n",
       "  </thead>\n",
       "  <tbody>\n",
       "    <tr>\n",
       "      <th>Sugar</th>\n",
       "      <td>34</td>\n",
       "      <td>12</td>\n",
       "      <td>35.29</td>\n",
       "      <td>bad</td>\n",
       "    </tr>\n",
       "    <tr>\n",
       "      <th>Salt</th>\n",
       "      <td>19</td>\n",
       "      <td>17</td>\n",
       "      <td>89.47</td>\n",
       "      <td>good</td>\n",
       "    </tr>\n",
       "    <tr>\n",
       "      <th>Pepper</th>\n",
       "      <td>10</td>\n",
       "      <td>12</td>\n",
       "      <td>120.00</td>\n",
       "      <td>good</td>\n",
       "    </tr>\n",
       "  </tbody>\n",
       "</table>\n",
       "</div>"
      ],
      "text/plain": [
       "        watched  bought  conversion_rate conversion\n",
       "name                                               \n",
       "Sugar        34      12            35.29        bad\n",
       "Salt         19      17            89.47       good\n",
       "Pepper       10      12           120.00       good"
      ]
     },
     "execution_count": 8,
     "metadata": {},
     "output_type": "execute_result"
    }
   ],
   "source": [
    "products['conversion'] = products.conversion_rate.apply(lambda x: 'good' if x > 50 else 'bad')\n",
    "products"
   ]
  },
  {
   "cell_type": "markdown",
   "metadata": {},
   "source": [
    "Categorize products by amount of sales:"
   ]
  },
  {
   "cell_type": "code",
   "execution_count": 9,
   "metadata": {},
   "outputs": [
    {
     "data": {
      "text/html": [
       "<div>\n",
       "<style scoped>\n",
       "    .dataframe tbody tr th:only-of-type {\n",
       "        vertical-align: middle;\n",
       "    }\n",
       "\n",
       "    .dataframe tbody tr th {\n",
       "        vertical-align: top;\n",
       "    }\n",
       "\n",
       "    .dataframe thead th {\n",
       "        text-align: right;\n",
       "    }\n",
       "</style>\n",
       "<table border=\"1\" class=\"dataframe\">\n",
       "  <thead>\n",
       "    <tr style=\"text-align: right;\">\n",
       "      <th></th>\n",
       "      <th>watched</th>\n",
       "      <th>bought</th>\n",
       "      <th>conversion_rate</th>\n",
       "      <th>conversion</th>\n",
       "      <th>sales</th>\n",
       "    </tr>\n",
       "    <tr>\n",
       "      <th>name</th>\n",
       "      <th></th>\n",
       "      <th></th>\n",
       "      <th></th>\n",
       "      <th></th>\n",
       "      <th></th>\n",
       "    </tr>\n",
       "  </thead>\n",
       "  <tbody>\n",
       "    <tr>\n",
       "      <th>Sugar</th>\n",
       "      <td>34</td>\n",
       "      <td>12</td>\n",
       "      <td>35.29</td>\n",
       "      <td>bad</td>\n",
       "      <td>bad</td>\n",
       "    </tr>\n",
       "    <tr>\n",
       "      <th>Salt</th>\n",
       "      <td>19</td>\n",
       "      <td>17</td>\n",
       "      <td>89.47</td>\n",
       "      <td>good</td>\n",
       "      <td>good</td>\n",
       "    </tr>\n",
       "    <tr>\n",
       "      <th>Pepper</th>\n",
       "      <td>10</td>\n",
       "      <td>12</td>\n",
       "      <td>120.00</td>\n",
       "      <td>good</td>\n",
       "      <td>bad</td>\n",
       "    </tr>\n",
       "  </tbody>\n",
       "</table>\n",
       "</div>"
      ],
      "text/plain": [
       "        watched  bought  conversion_rate conversion sales\n",
       "name                                                     \n",
       "Sugar        34      12            35.29        bad   bad\n",
       "Salt         19      17            89.47       good  good\n",
       "Pepper       10      12           120.00       good   bad"
      ]
     },
     "execution_count": 9,
     "metadata": {},
     "output_type": "execute_result"
    }
   ],
   "source": [
    "mean_sales = products.bought.mean()\n",
    "products['sales'] = products.bought.apply(lambda x: 'good' if x >= mean_sales else 'bad')\n",
    "products    "
   ]
  },
  {
   "cell_type": "markdown",
   "metadata": {},
   "source": [
    "Query the customers from the inspector API:"
   ]
  },
  {
   "cell_type": "code",
   "execution_count": 10,
   "metadata": {},
   "outputs": [
    {
     "data": {
      "text/html": [
       "<div>\n",
       "<style scoped>\n",
       "    .dataframe tbody tr th:only-of-type {\n",
       "        vertical-align: middle;\n",
       "    }\n",
       "\n",
       "    .dataframe tbody tr th {\n",
       "        vertical-align: top;\n",
       "    }\n",
       "\n",
       "    .dataframe thead th {\n",
       "        text-align: right;\n",
       "    }\n",
       "</style>\n",
       "<table border=\"1\" class=\"dataframe\">\n",
       "  <thead>\n",
       "    <tr style=\"text-align: right;\">\n",
       "      <th></th>\n",
       "      <th>Sugar</th>\n",
       "      <th>products</th>\n",
       "      <th>Salt</th>\n",
       "      <th>Pepper</th>\n",
       "    </tr>\n",
       "    <tr>\n",
       "      <th>name</th>\n",
       "      <th></th>\n",
       "      <th></th>\n",
       "      <th></th>\n",
       "      <th></th>\n",
       "    </tr>\n",
       "  </thead>\n",
       "  <tbody>\n",
       "    <tr>\n",
       "      <th>Victor</th>\n",
       "      <td>2.0</td>\n",
       "      <td>16</td>\n",
       "      <td>7</td>\n",
       "      <td>7.0</td>\n",
       "    </tr>\n",
       "    <tr>\n",
       "      <th>Max</th>\n",
       "      <td>2.0</td>\n",
       "      <td>3</td>\n",
       "      <td>1</td>\n",
       "      <td>0.0</td>\n",
       "    </tr>\n",
       "    <tr>\n",
       "      <th>Morgane</th>\n",
       "      <td>8.0</td>\n",
       "      <td>14</td>\n",
       "      <td>5</td>\n",
       "      <td>1.0</td>\n",
       "    </tr>\n",
       "    <tr>\n",
       "      <th>Michele</th>\n",
       "      <td>0.0</td>\n",
       "      <td>8</td>\n",
       "      <td>4</td>\n",
       "      <td>4.0</td>\n",
       "    </tr>\n",
       "  </tbody>\n",
       "</table>\n",
       "</div>"
      ],
      "text/plain": [
       "         Sugar  products  Salt  Pepper\n",
       "name                                  \n",
       "Victor     2.0        16     7     7.0\n",
       "Max        2.0         3     1     0.0\n",
       "Morgane    8.0        14     5     1.0\n",
       "Michele    0.0         8     4     4.0"
      ]
     },
     "execution_count": 10,
     "metadata": {},
     "output_type": "execute_result"
    }
   ],
   "source": [
    "df = pd.read_json(f'{inspector_api}/customer')\n",
    "customers = pd.read_json(df.customers.to_json(orient='records'))\n",
    "customers.fillna(0, inplace=True)\n",
    "customers.set_index('name', inplace=True)\n",
    "customers"
   ]
  },
  {
   "cell_type": "markdown",
   "metadata": {},
   "source": [
    "Categorize costumers by the amount of purchases:"
   ]
  },
  {
   "cell_type": "code",
   "execution_count": 11,
   "metadata": {},
   "outputs": [
    {
     "data": {
      "text/html": [
       "<div>\n",
       "<style scoped>\n",
       "    .dataframe tbody tr th:only-of-type {\n",
       "        vertical-align: middle;\n",
       "    }\n",
       "\n",
       "    .dataframe tbody tr th {\n",
       "        vertical-align: top;\n",
       "    }\n",
       "\n",
       "    .dataframe thead th {\n",
       "        text-align: right;\n",
       "    }\n",
       "</style>\n",
       "<table border=\"1\" class=\"dataframe\">\n",
       "  <thead>\n",
       "    <tr style=\"text-align: right;\">\n",
       "      <th></th>\n",
       "      <th>Sugar</th>\n",
       "      <th>products</th>\n",
       "      <th>Salt</th>\n",
       "      <th>Pepper</th>\n",
       "      <th>sales</th>\n",
       "    </tr>\n",
       "    <tr>\n",
       "      <th>name</th>\n",
       "      <th></th>\n",
       "      <th></th>\n",
       "      <th></th>\n",
       "      <th></th>\n",
       "      <th></th>\n",
       "    </tr>\n",
       "  </thead>\n",
       "  <tbody>\n",
       "    <tr>\n",
       "      <th>Victor</th>\n",
       "      <td>2.0</td>\n",
       "      <td>16</td>\n",
       "      <td>7</td>\n",
       "      <td>7.0</td>\n",
       "      <td>good</td>\n",
       "    </tr>\n",
       "    <tr>\n",
       "      <th>Max</th>\n",
       "      <td>2.0</td>\n",
       "      <td>3</td>\n",
       "      <td>1</td>\n",
       "      <td>0.0</td>\n",
       "      <td>bad</td>\n",
       "    </tr>\n",
       "    <tr>\n",
       "      <th>Morgane</th>\n",
       "      <td>8.0</td>\n",
       "      <td>14</td>\n",
       "      <td>5</td>\n",
       "      <td>1.0</td>\n",
       "      <td>good</td>\n",
       "    </tr>\n",
       "    <tr>\n",
       "      <th>Michele</th>\n",
       "      <td>0.0</td>\n",
       "      <td>8</td>\n",
       "      <td>4</td>\n",
       "      <td>4.0</td>\n",
       "      <td>bad</td>\n",
       "    </tr>\n",
       "  </tbody>\n",
       "</table>\n",
       "</div>"
      ],
      "text/plain": [
       "         Sugar  products  Salt  Pepper sales\n",
       "name                                        \n",
       "Victor     2.0        16     7     7.0  good\n",
       "Max        2.0         3     1     0.0   bad\n",
       "Morgane    8.0        14     5     1.0  good\n",
       "Michele    0.0         8     4     4.0   bad"
      ]
     },
     "execution_count": 11,
     "metadata": {},
     "output_type": "execute_result"
    }
   ],
   "source": [
    "mean_sales = customers.products.mean()\n",
    "customers['sales'] = customers.products.apply(lambda x: 'good' if x > mean_sales else 'bad')\n",
    "customers"
   ]
  },
  {
   "cell_type": "markdown",
   "metadata": {},
   "source": [
    "Keep only the customers with an above average amount of purchases:"
   ]
  },
  {
   "cell_type": "code",
   "execution_count": 12,
   "metadata": {},
   "outputs": [
    {
     "data": {
      "text/html": [
       "<div>\n",
       "<style scoped>\n",
       "    .dataframe tbody tr th:only-of-type {\n",
       "        vertical-align: middle;\n",
       "    }\n",
       "\n",
       "    .dataframe tbody tr th {\n",
       "        vertical-align: top;\n",
       "    }\n",
       "\n",
       "    .dataframe thead th {\n",
       "        text-align: right;\n",
       "    }\n",
       "</style>\n",
       "<table border=\"1\" class=\"dataframe\">\n",
       "  <thead>\n",
       "    <tr style=\"text-align: right;\">\n",
       "      <th>name</th>\n",
       "      <th>Victor</th>\n",
       "      <th>Morgane</th>\n",
       "    </tr>\n",
       "  </thead>\n",
       "  <tbody>\n",
       "    <tr>\n",
       "      <th>Sugar</th>\n",
       "      <td>2</td>\n",
       "      <td>8</td>\n",
       "    </tr>\n",
       "    <tr>\n",
       "      <th>Salt</th>\n",
       "      <td>7</td>\n",
       "      <td>5</td>\n",
       "    </tr>\n",
       "    <tr>\n",
       "      <th>Pepper</th>\n",
       "      <td>7</td>\n",
       "      <td>1</td>\n",
       "    </tr>\n",
       "  </tbody>\n",
       "</table>\n",
       "</div>"
      ],
      "text/plain": [
       "name   Victor Morgane\n",
       "Sugar       2       8\n",
       "Salt        7       5\n",
       "Pepper      7       1"
      ]
     },
     "execution_count": 12,
     "metadata": {},
     "output_type": "execute_result"
    }
   ],
   "source": [
    "customers = customers[customers.sales == 'good'].transpose().drop(['products', 'sales'])\n",
    "customers"
   ]
  },
  {
   "cell_type": "markdown",
   "metadata": {},
   "source": [
    "Replace the amount of purchases with the proportion of purchases compared to the total amount:"
   ]
  },
  {
   "cell_type": "code",
   "execution_count": 13,
   "metadata": {},
   "outputs": [
    {
     "data": {
      "text/html": [
       "<div>\n",
       "<style scoped>\n",
       "    .dataframe tbody tr th:only-of-type {\n",
       "        vertical-align: middle;\n",
       "    }\n",
       "\n",
       "    .dataframe tbody tr th {\n",
       "        vertical-align: top;\n",
       "    }\n",
       "\n",
       "    .dataframe thead th {\n",
       "        text-align: right;\n",
       "    }\n",
       "</style>\n",
       "<table border=\"1\" class=\"dataframe\">\n",
       "  <thead>\n",
       "    <tr style=\"text-align: right;\">\n",
       "      <th>name</th>\n",
       "      <th>Victor</th>\n",
       "      <th>Morgane</th>\n",
       "    </tr>\n",
       "  </thead>\n",
       "  <tbody>\n",
       "    <tr>\n",
       "      <th>Sugar</th>\n",
       "      <td>6.67</td>\n",
       "      <td>26.67</td>\n",
       "    </tr>\n",
       "    <tr>\n",
       "      <th>Salt</th>\n",
       "      <td>23.33</td>\n",
       "      <td>16.67</td>\n",
       "    </tr>\n",
       "    <tr>\n",
       "      <th>Pepper</th>\n",
       "      <td>23.33</td>\n",
       "      <td>3.33</td>\n",
       "    </tr>\n",
       "  </tbody>\n",
       "</table>\n",
       "</div>"
      ],
      "text/plain": [
       "name    Victor  Morgane\n",
       "Sugar     6.67    26.67\n",
       "Salt     23.33    16.67\n",
       "Pepper   23.33     3.33"
      ]
     },
     "execution_count": 13,
     "metadata": {},
     "output_type": "execute_result"
    }
   ],
   "source": [
    "total = customers.sum().sum()\n",
    "def calculate_proportions(products):\n",
    "    proportions = products / total\n",
    "    return proportions.apply(lambda x: round(100 * x, 2))\n",
    "\n",
    "customers = customers.apply(calculate_proportions)\n",
    "customers"
   ]
  },
  {
   "cell_type": "markdown",
   "metadata": {},
   "source": [
    "Merge customers and products:"
   ]
  },
  {
   "cell_type": "code",
   "execution_count": 14,
   "metadata": {},
   "outputs": [
    {
     "data": {
      "text/html": [
       "<div>\n",
       "<style scoped>\n",
       "    .dataframe tbody tr th:only-of-type {\n",
       "        vertical-align: middle;\n",
       "    }\n",
       "\n",
       "    .dataframe tbody tr th {\n",
       "        vertical-align: top;\n",
       "    }\n",
       "\n",
       "    .dataframe thead th {\n",
       "        text-align: right;\n",
       "    }\n",
       "</style>\n",
       "<table border=\"1\" class=\"dataframe\">\n",
       "  <thead>\n",
       "    <tr style=\"text-align: right;\">\n",
       "      <th></th>\n",
       "      <th>watched</th>\n",
       "      <th>bought</th>\n",
       "      <th>conversion_rate</th>\n",
       "      <th>conversion</th>\n",
       "      <th>sales</th>\n",
       "      <th>Victor</th>\n",
       "      <th>Morgane</th>\n",
       "    </tr>\n",
       "    <tr>\n",
       "      <th>name</th>\n",
       "      <th></th>\n",
       "      <th></th>\n",
       "      <th></th>\n",
       "      <th></th>\n",
       "      <th></th>\n",
       "      <th></th>\n",
       "      <th></th>\n",
       "    </tr>\n",
       "  </thead>\n",
       "  <tbody>\n",
       "    <tr>\n",
       "      <th>Sugar</th>\n",
       "      <td>34</td>\n",
       "      <td>12</td>\n",
       "      <td>35.29</td>\n",
       "      <td>bad</td>\n",
       "      <td>bad</td>\n",
       "      <td>6.67</td>\n",
       "      <td>26.67</td>\n",
       "    </tr>\n",
       "    <tr>\n",
       "      <th>Salt</th>\n",
       "      <td>19</td>\n",
       "      <td>17</td>\n",
       "      <td>89.47</td>\n",
       "      <td>good</td>\n",
       "      <td>good</td>\n",
       "      <td>23.33</td>\n",
       "      <td>16.67</td>\n",
       "    </tr>\n",
       "    <tr>\n",
       "      <th>Pepper</th>\n",
       "      <td>10</td>\n",
       "      <td>12</td>\n",
       "      <td>120.00</td>\n",
       "      <td>good</td>\n",
       "      <td>bad</td>\n",
       "      <td>23.33</td>\n",
       "      <td>3.33</td>\n",
       "    </tr>\n",
       "  </tbody>\n",
       "</table>\n",
       "</div>"
      ],
      "text/plain": [
       "        watched  bought  conversion_rate conversion sales  Victor  Morgane\n",
       "name                                                                      \n",
       "Sugar        34      12            35.29        bad   bad    6.67    26.67\n",
       "Salt         19      17            89.47       good  good   23.33    16.67\n",
       "Pepper       10      12           120.00       good   bad   23.33     3.33"
      ]
     },
     "execution_count": 14,
     "metadata": {},
     "output_type": "execute_result"
    }
   ],
   "source": [
    "products = products.join(customers)\n",
    "products"
   ]
  },
  {
   "cell_type": "markdown",
   "metadata": {},
   "source": [
    "Visualize the proportion of product sales between the customers:"
   ]
  },
  {
   "cell_type": "code",
   "execution_count": 15,
   "metadata": {},
   "outputs": [
    {
     "data": {
      "image/png": "[encoded data removed]",
      "text/plain": [
       "<Figure size 432x288 with 3 Axes>"
      ]
     },
     "metadata": {},
     "output_type": "display_data"
    }
   ],
   "source": [
    "product_names = products.index\n",
    "fig, axes = plt.subplots(1, product_names.size)\n",
    "\n",
    "for i, name in enumerate(product_names):\n",
    "    sales_index = products.loc[name].bought / 10\n",
    "    data = products.loc[name][customers.columns]\n",
    "    axes[i].pie(data, labels=data.index, radius=sales_index, autopct='%1.1f%%', shadow=True)\n",
    "    axes[i].set_title(name, loc='left', pad=50.0, fontdict={'fontweight': 'bold'})\n",
    "    \n",
    "plt.subplots_adjust(right=2.5)\n",
    "plt.show()"
   ]
  },
  {
   "cell_type": "markdown",
   "metadata": {},
   "source": [
    "## Events"
   ]
  },
  {
   "cell_type": "markdown",
   "metadata": {},
   "source": [
    "Query records from the event-store:"
   ]
  },
  {
   "cell_type": "code",
   "execution_count": 16,
   "metadata": {},
   "outputs": [
    {
     "data": {
      "text/plain": [
       "[ConsumerRecord(topic='events', partition=0, offset=0, timestamp=1588146594684, timestamp_type=0, key=None, value={'name': 'product_watched', 'version': 'v1.0', 'payload': {'product': 'Sugar', 'visitor': 'anonymous'}}, headers=[], checksum=None, serialized_key_size=-1, serialized_value_size=103, serialized_header_size=-1),\n",
       " ConsumerRecord(topic='events', partition=0, offset=1, timestamp=1588146596826, timestamp_type=0, key=None, value={'name': 'product_watched', 'version': 'v1.0', 'payload': {'product': 'Salt', 'visitor': 'anonymous'}}, headers=[], checksum=None, serialized_key_size=-1, serialized_value_size=102, serialized_header_size=-1),\n",
       " ConsumerRecord(topic='events', partition=0, offset=2, timestamp=1588146598671, timestamp_type=0, key=None, value={'name': 'product_watched', 'version': 'v1.0', 'payload': {'product': 'Pepper', 'visitor': 'anonymous'}}, headers=[], checksum=None, serialized_key_size=-1, serialized_value_size=104, serialized_header_size=-1)]"
      ]
     },
     "execution_count": 16,
     "metadata": {},
     "output_type": "execute_result"
    }
   ],
   "source": [
    "consumer = KafkaConsumer('events', \n",
    "                         bootstrap_servers=event_store,\n",
    "                         value_deserializer=lambda x: json.loads(x.decode('utf-8')),\n",
    "                         auto_offset_reset='earliest', \n",
    "                         enable_auto_commit=False,\n",
    "                         consumer_timeout_ms=1000)\n",
    "records = [record for record in consumer]\n",
    "records[:3]"
   ]
  },
  {
   "cell_type": "markdown",
   "metadata": {},
   "source": [
    "Store records inside a DataFrame:"
   ]
  },
  {
   "cell_type": "code",
   "execution_count": 17,
   "metadata": {},
   "outputs": [
    {
     "data": {
      "text/html": [
       "<div>\n",
       "<style scoped>\n",
       "    .dataframe tbody tr th:only-of-type {\n",
       "        vertical-align: middle;\n",
       "    }\n",
       "\n",
       "    .dataframe tbody tr th {\n",
       "        vertical-align: top;\n",
       "    }\n",
       "\n",
       "    .dataframe thead th {\n",
       "        text-align: right;\n",
       "    }\n",
       "</style>\n",
       "<table border=\"1\" class=\"dataframe\">\n",
       "  <thead>\n",
       "    <tr style=\"text-align: right;\">\n",
       "      <th></th>\n",
       "      <th>topic</th>\n",
       "      <th>partition</th>\n",
       "      <th>offset</th>\n",
       "      <th>timestamp</th>\n",
       "      <th>timestamp_type</th>\n",
       "      <th>key</th>\n",
       "      <th>value</th>\n",
       "      <th>headers</th>\n",
       "      <th>checksum</th>\n",
       "      <th>serialized_key_size</th>\n",
       "      <th>serialized_value_size</th>\n",
       "      <th>serialized_header_size</th>\n",
       "    </tr>\n",
       "  </thead>\n",
       "  <tbody>\n",
       "    <tr>\n",
       "      <th>0</th>\n",
       "      <td>events</td>\n",
       "      <td>0</td>\n",
       "      <td>0</td>\n",
       "      <td>1588146594684</td>\n",
       "      <td>0</td>\n",
       "      <td>None</td>\n",
       "      <td>{'name': 'product_watched', 'version': 'v1.0',...</td>\n",
       "      <td>[]</td>\n",
       "      <td>None</td>\n",
       "      <td>-1</td>\n",
       "      <td>103</td>\n",
       "      <td>-1</td>\n",
       "    </tr>\n",
       "    <tr>\n",
       "      <th>1</th>\n",
       "      <td>events</td>\n",
       "      <td>0</td>\n",
       "      <td>1</td>\n",
       "      <td>1588146596826</td>\n",
       "      <td>0</td>\n",
       "      <td>None</td>\n",
       "      <td>{'name': 'product_watched', 'version': 'v1.0',...</td>\n",
       "      <td>[]</td>\n",
       "      <td>None</td>\n",
       "      <td>-1</td>\n",
       "      <td>102</td>\n",
       "      <td>-1</td>\n",
       "    </tr>\n",
       "    <tr>\n",
       "      <th>2</th>\n",
       "      <td>events</td>\n",
       "      <td>0</td>\n",
       "      <td>2</td>\n",
       "      <td>1588146598671</td>\n",
       "      <td>0</td>\n",
       "      <td>None</td>\n",
       "      <td>{'name': 'product_watched', 'version': 'v1.0',...</td>\n",
       "      <td>[]</td>\n",
       "      <td>None</td>\n",
       "      <td>-1</td>\n",
       "      <td>104</td>\n",
       "      <td>-1</td>\n",
       "    </tr>\n",
       "    <tr>\n",
       "      <th>3</th>\n",
       "      <td>events</td>\n",
       "      <td>0</td>\n",
       "      <td>3</td>\n",
       "      <td>1588146600660</td>\n",
       "      <td>0</td>\n",
       "      <td>None</td>\n",
       "      <td>{'name': 'product_watched', 'version': 'v1.0',...</td>\n",
       "      <td>[]</td>\n",
       "      <td>None</td>\n",
       "      <td>-1</td>\n",
       "      <td>103</td>\n",
       "      <td>-1</td>\n",
       "    </tr>\n",
       "    <tr>\n",
       "      <th>4</th>\n",
       "      <td>events</td>\n",
       "      <td>0</td>\n",
       "      <td>4</td>\n",
       "      <td>1588146602487</td>\n",
       "      <td>0</td>\n",
       "      <td>None</td>\n",
       "      <td>{'name': 'product_watched', 'version': 'v1.0',...</td>\n",
       "      <td>[]</td>\n",
       "      <td>None</td>\n",
       "      <td>-1</td>\n",
       "      <td>102</td>\n",
       "      <td>-1</td>\n",
       "    </tr>\n",
       "  </tbody>\n",
       "</table>\n",
       "</div>"
      ],
      "text/plain": [
       "    topic  partition  offset      timestamp  timestamp_type   key  \\\n",
       "0  events          0       0  1588146594684               0  None   \n",
       "1  events          0       1  1588146596826               0  None   \n",
       "2  events          0       2  1588146598671               0  None   \n",
       "3  events          0       3  1588146600660               0  None   \n",
       "4  events          0       4  1588146602487               0  None   \n",
       "\n",
       "                                               value headers checksum  \\\n",
       "0  {'name': 'product_watched', 'version': 'v1.0',...      []     None   \n",
       "1  {'name': 'product_watched', 'version': 'v1.0',...      []     None   \n",
       "2  {'name': 'product_watched', 'version': 'v1.0',...      []     None   \n",
       "3  {'name': 'product_watched', 'version': 'v1.0',...      []     None   \n",
       "4  {'name': 'product_watched', 'version': 'v1.0',...      []     None   \n",
       "\n",
       "   serialized_key_size  serialized_value_size  serialized_header_size  \n",
       "0                   -1                    103                      -1  \n",
       "1                   -1                    102                      -1  \n",
       "2                   -1                    104                      -1  \n",
       "3                   -1                    103                      -1  \n",
       "4                   -1                    102                      -1  "
      ]
     },
     "execution_count": 17,
     "metadata": {},
     "output_type": "execute_result"
    }
   ],
   "source": [
    "records = pd.DataFrame(records)\n",
    "records.head()"
   ]
  },
  {
   "cell_type": "markdown",
   "metadata": {},
   "source": [
    "Extract events from records:"
   ]
  },
  {
   "cell_type": "code",
   "execution_count": 18,
   "metadata": {},
   "outputs": [
    {
     "data": {
      "text/html": [
       "<div>\n",
       "<style scoped>\n",
       "    .dataframe tbody tr th:only-of-type {\n",
       "        vertical-align: middle;\n",
       "    }\n",
       "\n",
       "    .dataframe tbody tr th {\n",
       "        vertical-align: top;\n",
       "    }\n",
       "\n",
       "    .dataframe thead th {\n",
       "        text-align: right;\n",
       "    }\n",
       "</style>\n",
       "<table border=\"1\" class=\"dataframe\">\n",
       "  <thead>\n",
       "    <tr style=\"text-align: right;\">\n",
       "      <th></th>\n",
       "      <th>name</th>\n",
       "      <th>version</th>\n",
       "      <th>payload</th>\n",
       "    </tr>\n",
       "  </thead>\n",
       "  <tbody>\n",
       "    <tr>\n",
       "      <th>0</th>\n",
       "      <td>product_watched</td>\n",
       "      <td>v1.0</td>\n",
       "      <td>{'product': 'Sugar', 'visitor': 'anonymous'}</td>\n",
       "    </tr>\n",
       "    <tr>\n",
       "      <th>1</th>\n",
       "      <td>product_watched</td>\n",
       "      <td>v1.0</td>\n",
       "      <td>{'product': 'Salt', 'visitor': 'anonymous'}</td>\n",
       "    </tr>\n",
       "    <tr>\n",
       "      <th>2</th>\n",
       "      <td>product_watched</td>\n",
       "      <td>v1.0</td>\n",
       "      <td>{'product': 'Pepper', 'visitor': 'anonymous'}</td>\n",
       "    </tr>\n",
       "    <tr>\n",
       "      <th>3</th>\n",
       "      <td>product_watched</td>\n",
       "      <td>v1.0</td>\n",
       "      <td>{'product': 'Sugar', 'visitor': 'anonymous'}</td>\n",
       "    </tr>\n",
       "    <tr>\n",
       "      <th>4</th>\n",
       "      <td>product_watched</td>\n",
       "      <td>v1.0</td>\n",
       "      <td>{'product': 'Salt', 'visitor': 'anonymous'}</td>\n",
       "    </tr>\n",
       "  </tbody>\n",
       "</table>\n",
       "</div>"
      ],
      "text/plain": [
       "              name version                                        payload\n",
       "0  product_watched    v1.0   {'product': 'Sugar', 'visitor': 'anonymous'}\n",
       "1  product_watched    v1.0    {'product': 'Salt', 'visitor': 'anonymous'}\n",
       "2  product_watched    v1.0  {'product': 'Pepper', 'visitor': 'anonymous'}\n",
       "3  product_watched    v1.0   {'product': 'Sugar', 'visitor': 'anonymous'}\n",
       "4  product_watched    v1.0    {'product': 'Salt', 'visitor': 'anonymous'}"
      ]
     },
     "execution_count": 18,
     "metadata": {},
     "output_type": "execute_result"
    }
   ],
   "source": [
    "events = pd.read_json(records.value.to_json(orient='records'))\n",
    "events.head()"
   ]
  },
  {
   "cell_type": "markdown",
   "metadata": {},
   "source": [
    "Extract payload from events and add timestamp from records:"
   ]
  },
  {
   "cell_type": "code",
   "execution_count": 19,
   "metadata": {},
   "outputs": [
    {
     "data": {
      "text/html": [
       "<div>\n",
       "<style scoped>\n",
       "    .dataframe tbody tr th:only-of-type {\n",
       "        vertical-align: middle;\n",
       "    }\n",
       "\n",
       "    .dataframe tbody tr th {\n",
       "        vertical-align: top;\n",
       "    }\n",
       "\n",
       "    .dataframe thead th {\n",
       "        text-align: right;\n",
       "    }\n",
       "</style>\n",
       "<table border=\"1\" class=\"dataframe\">\n",
       "  <thead>\n",
       "    <tr style=\"text-align: right;\">\n",
       "      <th></th>\n",
       "      <th>name</th>\n",
       "      <th>version</th>\n",
       "      <th>product</th>\n",
       "      <th>visitor</th>\n",
       "      <th>customer</th>\n",
       "      <th>timestamp</th>\n",
       "    </tr>\n",
       "  </thead>\n",
       "  <tbody>\n",
       "    <tr>\n",
       "      <th>0</th>\n",
       "      <td>product_watched</td>\n",
       "      <td>v1.0</td>\n",
       "      <td>Sugar</td>\n",
       "      <td>anonymous</td>\n",
       "      <td>NaN</td>\n",
       "      <td>1588146594684</td>\n",
       "    </tr>\n",
       "    <tr>\n",
       "      <th>1</th>\n",
       "      <td>product_watched</td>\n",
       "      <td>v1.0</td>\n",
       "      <td>Salt</td>\n",
       "      <td>anonymous</td>\n",
       "      <td>NaN</td>\n",
       "      <td>1588146596826</td>\n",
       "    </tr>\n",
       "    <tr>\n",
       "      <th>2</th>\n",
       "      <td>product_watched</td>\n",
       "      <td>v1.0</td>\n",
       "      <td>Pepper</td>\n",
       "      <td>anonymous</td>\n",
       "      <td>NaN</td>\n",
       "      <td>1588146598671</td>\n",
       "    </tr>\n",
       "    <tr>\n",
       "      <th>3</th>\n",
       "      <td>product_watched</td>\n",
       "      <td>v1.0</td>\n",
       "      <td>Sugar</td>\n",
       "      <td>anonymous</td>\n",
       "      <td>NaN</td>\n",
       "      <td>1588146600660</td>\n",
       "    </tr>\n",
       "    <tr>\n",
       "      <th>4</th>\n",
       "      <td>product_watched</td>\n",
       "      <td>v1.0</td>\n",
       "      <td>Salt</td>\n",
       "      <td>anonymous</td>\n",
       "      <td>NaN</td>\n",
       "      <td>1588146602487</td>\n",
       "    </tr>\n",
       "  </tbody>\n",
       "</table>\n",
       "</div>"
      ],
      "text/plain": [
       "              name version product    visitor customer      timestamp\n",
       "0  product_watched    v1.0   Sugar  anonymous      NaN  1588146594684\n",
       "1  product_watched    v1.0    Salt  anonymous      NaN  1588146596826\n",
       "2  product_watched    v1.0  Pepper  anonymous      NaN  1588146598671\n",
       "3  product_watched    v1.0   Sugar  anonymous      NaN  1588146600660\n",
       "4  product_watched    v1.0    Salt  anonymous      NaN  1588146602487"
      ]
     },
     "execution_count": 19,
     "metadata": {},
     "output_type": "execute_result"
    }
   ],
   "source": [
    "events = events.join(pd.read_json(events.payload.to_json(orient='records')))\n",
    "events.drop(['payload'], axis=1, inplace=True)\n",
    "events['timestamp'] = records.timestamp\n",
    "events.head()"
   ]
  },
  {
   "cell_type": "markdown",
   "metadata": {},
   "source": [
    "Filter `product_bought` events:"
   ]
  },
  {
   "cell_type": "code",
   "execution_count": 20,
   "metadata": {},
   "outputs": [
    {
     "data": {
      "text/html": [
       "<div>\n",
       "<style scoped>\n",
       "    .dataframe tbody tr th:only-of-type {\n",
       "        vertical-align: middle;\n",
       "    }\n",
       "\n",
       "    .dataframe tbody tr th {\n",
       "        vertical-align: top;\n",
       "    }\n",
       "\n",
       "    .dataframe thead th {\n",
       "        text-align: right;\n",
       "    }\n",
       "</style>\n",
       "<table border=\"1\" class=\"dataframe\">\n",
       "  <thead>\n",
       "    <tr style=\"text-align: right;\">\n",
       "      <th></th>\n",
       "      <th>name</th>\n",
       "      <th>version</th>\n",
       "      <th>product</th>\n",
       "      <th>customer</th>\n",
       "      <th>timestamp</th>\n",
       "    </tr>\n",
       "  </thead>\n",
       "  <tbody>\n",
       "    <tr>\n",
       "      <th>34</th>\n",
       "      <td>product_bought</td>\n",
       "      <td>v1.0</td>\n",
       "      <td>Sugar</td>\n",
       "      <td>Victor</td>\n",
       "      <td>1588146686452</td>\n",
       "    </tr>\n",
       "    <tr>\n",
       "      <th>35</th>\n",
       "      <td>product_bought</td>\n",
       "      <td>v1.0</td>\n",
       "      <td>Sugar</td>\n",
       "      <td>Victor</td>\n",
       "      <td>1588146686452</td>\n",
       "    </tr>\n",
       "    <tr>\n",
       "      <th>36</th>\n",
       "      <td>product_bought</td>\n",
       "      <td>v1.0</td>\n",
       "      <td>Salt</td>\n",
       "      <td>Victor</td>\n",
       "      <td>1588146686452</td>\n",
       "    </tr>\n",
       "    <tr>\n",
       "      <th>37</th>\n",
       "      <td>product_bought</td>\n",
       "      <td>v1.0</td>\n",
       "      <td>Salt</td>\n",
       "      <td>Victor</td>\n",
       "      <td>1588146686452</td>\n",
       "    </tr>\n",
       "    <tr>\n",
       "      <th>38</th>\n",
       "      <td>product_bought</td>\n",
       "      <td>v1.0</td>\n",
       "      <td>Salt</td>\n",
       "      <td>Victor</td>\n",
       "      <td>1588146686452</td>\n",
       "    </tr>\n",
       "  </tbody>\n",
       "</table>\n",
       "</div>"
      ],
      "text/plain": [
       "              name version product customer      timestamp\n",
       "34  product_bought    v1.0   Sugar   Victor  1588146686452\n",
       "35  product_bought    v1.0   Sugar   Victor  1588146686452\n",
       "36  product_bought    v1.0    Salt   Victor  1588146686452\n",
       "37  product_bought    v1.0    Salt   Victor  1588146686452\n",
       "38  product_bought    v1.0    Salt   Victor  1588146686452"
      ]
     },
     "execution_count": 20,
     "metadata": {},
     "output_type": "execute_result"
    }
   ],
   "source": [
    "events[events.name == 'product_bought'].drop(['visitor'], axis=1).head()"
   ]
  },
  {
   "cell_type": "markdown",
   "metadata": {},
   "source": [
    "Filter events related to customer `Michele`:"
   ]
  },
  {
   "cell_type": "code",
   "execution_count": 21,
   "metadata": {},
   "outputs": [
    {
     "data": {
      "text/html": [
       "<div>\n",
       "<style scoped>\n",
       "    .dataframe tbody tr th:only-of-type {\n",
       "        vertical-align: middle;\n",
       "    }\n",
       "\n",
       "    .dataframe tbody tr th {\n",
       "        vertical-align: top;\n",
       "    }\n",
       "\n",
       "    .dataframe thead th {\n",
       "        text-align: right;\n",
       "    }\n",
       "</style>\n",
       "<table border=\"1\" class=\"dataframe\">\n",
       "  <thead>\n",
       "    <tr style=\"text-align: right;\">\n",
       "      <th></th>\n",
       "      <th>name</th>\n",
       "      <th>version</th>\n",
       "      <th>product</th>\n",
       "      <th>visitor</th>\n",
       "      <th>customer</th>\n",
       "      <th>timestamp</th>\n",
       "    </tr>\n",
       "  </thead>\n",
       "  <tbody>\n",
       "    <tr>\n",
       "      <th>78</th>\n",
       "      <td>product_watched</td>\n",
       "      <td>v1.0</td>\n",
       "      <td>Sugar</td>\n",
       "      <td>Michele</td>\n",
       "      <td>NaN</td>\n",
       "      <td>1588146746198</td>\n",
       "    </tr>\n",
       "    <tr>\n",
       "      <th>79</th>\n",
       "      <td>product_watched</td>\n",
       "      <td>v1.0</td>\n",
       "      <td>Salt</td>\n",
       "      <td>Michele</td>\n",
       "      <td>NaN</td>\n",
       "      <td>1588146747927</td>\n",
       "    </tr>\n",
       "    <tr>\n",
       "      <th>80</th>\n",
       "      <td>product_watched</td>\n",
       "      <td>v1.0</td>\n",
       "      <td>Pepper</td>\n",
       "      <td>Michele</td>\n",
       "      <td>NaN</td>\n",
       "      <td>1588146750790</td>\n",
       "    </tr>\n",
       "    <tr>\n",
       "      <th>81</th>\n",
       "      <td>product_watched</td>\n",
       "      <td>v1.0</td>\n",
       "      <td>Salt</td>\n",
       "      <td>Michele</td>\n",
       "      <td>NaN</td>\n",
       "      <td>1588146752468</td>\n",
       "    </tr>\n",
       "    <tr>\n",
       "      <th>82</th>\n",
       "      <td>product_watched</td>\n",
       "      <td>v1.0</td>\n",
       "      <td>Pepper</td>\n",
       "      <td>Michele</td>\n",
       "      <td>NaN</td>\n",
       "      <td>1588146754156</td>\n",
       "    </tr>\n",
       "  </tbody>\n",
       "</table>\n",
       "</div>"
      ],
      "text/plain": [
       "               name version product  visitor customer      timestamp\n",
       "78  product_watched    v1.0   Sugar  Michele      NaN  1588146746198\n",
       "79  product_watched    v1.0    Salt  Michele      NaN  1588146747927\n",
       "80  product_watched    v1.0  Pepper  Michele      NaN  1588146750790\n",
       "81  product_watched    v1.0    Salt  Michele      NaN  1588146752468\n",
       "82  product_watched    v1.0  Pepper  Michele      NaN  1588146754156"
      ]
     },
     "execution_count": 21,
     "metadata": {},
     "output_type": "execute_result"
    }
   ],
   "source": [
    "events[(events.visitor == 'Michele') | (events.customer == 'Michele')].head()"
   ]
  },
  {
   "cell_type": "markdown",
   "metadata": {},
   "source": [
    "Clean up data:"
   ]
  },
  {
   "cell_type": "code",
   "execution_count": 22,
   "metadata": {},
   "outputs": [
    {
     "data": {
      "text/html": [
       "<div>\n",
       "<style scoped>\n",
       "    .dataframe tbody tr th:only-of-type {\n",
       "        vertical-align: middle;\n",
       "    }\n",
       "\n",
       "    .dataframe tbody tr th {\n",
       "        vertical-align: top;\n",
       "    }\n",
       "\n",
       "    .dataframe thead th {\n",
       "        text-align: right;\n",
       "    }\n",
       "</style>\n",
       "<table border=\"1\" class=\"dataframe\">\n",
       "  <thead>\n",
       "    <tr style=\"text-align: right;\">\n",
       "      <th></th>\n",
       "      <th>name</th>\n",
       "      <th>product</th>\n",
       "      <th>customer</th>\n",
       "    </tr>\n",
       "  </thead>\n",
       "  <tbody>\n",
       "    <tr>\n",
       "      <th>0</th>\n",
       "      <td>product_watched</td>\n",
       "      <td>Sugar</td>\n",
       "      <td>anonymous</td>\n",
       "    </tr>\n",
       "    <tr>\n",
       "      <th>1</th>\n",
       "      <td>product_watched</td>\n",
       "      <td>Salt</td>\n",
       "      <td>anonymous</td>\n",
       "    </tr>\n",
       "    <tr>\n",
       "      <th>2</th>\n",
       "      <td>product_watched</td>\n",
       "      <td>Pepper</td>\n",
       "      <td>anonymous</td>\n",
       "    </tr>\n",
       "    <tr>\n",
       "      <th>3</th>\n",
       "      <td>product_watched</td>\n",
       "      <td>Sugar</td>\n",
       "      <td>anonymous</td>\n",
       "    </tr>\n",
       "    <tr>\n",
       "      <th>4</th>\n",
       "      <td>product_watched</td>\n",
       "      <td>Salt</td>\n",
       "      <td>anonymous</td>\n",
       "    </tr>\n",
       "  </tbody>\n",
       "</table>\n",
       "</div>"
      ],
      "text/plain": [
       "              name product   customer\n",
       "0  product_watched   Sugar  anonymous\n",
       "1  product_watched    Salt  anonymous\n",
       "2  product_watched  Pepper  anonymous\n",
       "3  product_watched   Sugar  anonymous\n",
       "4  product_watched    Salt  anonymous"
      ]
     },
     "execution_count": 22,
     "metadata": {},
     "output_type": "execute_result"
    }
   ],
   "source": [
    "data = events.drop(['version', 'visitor', 'timestamp'], axis=1)\n",
    "data.customer.fillna(events.visitor, inplace=True)\n",
    "data.head()"
   ]
  },
  {
   "cell_type": "markdown",
   "metadata": {},
   "source": [
    "Count amount of events per type of event, customer, and product:"
   ]
  },
  {
   "cell_type": "code",
   "execution_count": 23,
   "metadata": {},
   "outputs": [
    {
     "data": {
      "text/html": [
       "<div>\n",
       "<style scoped>\n",
       "    .dataframe tbody tr th:only-of-type {\n",
       "        vertical-align: middle;\n",
       "    }\n",
       "\n",
       "    .dataframe tbody tr th {\n",
       "        vertical-align: top;\n",
       "    }\n",
       "\n",
       "    .dataframe thead th {\n",
       "        text-align: right;\n",
       "    }\n",
       "</style>\n",
       "<table border=\"1\" class=\"dataframe\">\n",
       "  <thead>\n",
       "    <tr style=\"text-align: right;\">\n",
       "      <th></th>\n",
       "      <th>customer</th>\n",
       "      <th>Max</th>\n",
       "      <th>Michele</th>\n",
       "      <th>Morgane</th>\n",
       "      <th>Victor</th>\n",
       "      <th>anonymous</th>\n",
       "    </tr>\n",
       "    <tr>\n",
       "      <th>name</th>\n",
       "      <th>product</th>\n",
       "      <th></th>\n",
       "      <th></th>\n",
       "      <th></th>\n",
       "      <th></th>\n",
       "      <th></th>\n",
       "    </tr>\n",
       "  </thead>\n",
       "  <tbody>\n",
       "    <tr>\n",
       "      <th rowspan=\"3\" valign=\"top\">product_bought</th>\n",
       "      <th>Pepper</th>\n",
       "      <td>0.0</td>\n",
       "      <td>4.0</td>\n",
       "      <td>1.0</td>\n",
       "      <td>7.0</td>\n",
       "      <td>0.0</td>\n",
       "    </tr>\n",
       "    <tr>\n",
       "      <th>Salt</th>\n",
       "      <td>1.0</td>\n",
       "      <td>4.0</td>\n",
       "      <td>5.0</td>\n",
       "      <td>7.0</td>\n",
       "      <td>0.0</td>\n",
       "    </tr>\n",
       "    <tr>\n",
       "      <th>Sugar</th>\n",
       "      <td>2.0</td>\n",
       "      <td>0.0</td>\n",
       "      <td>8.0</td>\n",
       "      <td>2.0</td>\n",
       "      <td>0.0</td>\n",
       "    </tr>\n",
       "    <tr>\n",
       "      <th rowspan=\"3\" valign=\"top\">product_watched</th>\n",
       "      <th>Pepper</th>\n",
       "      <td>0.0</td>\n",
       "      <td>3.0</td>\n",
       "      <td>1.0</td>\n",
       "      <td>2.0</td>\n",
       "      <td>4.0</td>\n",
       "    </tr>\n",
       "    <tr>\n",
       "      <th>Salt</th>\n",
       "      <td>1.0</td>\n",
       "      <td>4.0</td>\n",
       "      <td>2.0</td>\n",
       "      <td>4.0</td>\n",
       "      <td>8.0</td>\n",
       "    </tr>\n",
       "    <tr>\n",
       "      <th>Sugar</th>\n",
       "      <td>3.0</td>\n",
       "      <td>4.0</td>\n",
       "      <td>4.0</td>\n",
       "      <td>10.0</td>\n",
       "      <td>13.0</td>\n",
       "    </tr>\n",
       "  </tbody>\n",
       "</table>\n",
       "</div>"
      ],
      "text/plain": [
       "customer                 Max  Michele  Morgane  Victor  anonymous\n",
       "name            product                                          \n",
       "product_bought  Pepper   0.0      4.0      1.0     7.0        0.0\n",
       "                Salt     1.0      4.0      5.0     7.0        0.0\n",
       "                Sugar    2.0      0.0      8.0     2.0        0.0\n",
       "product_watched Pepper   0.0      3.0      1.0     2.0        4.0\n",
       "                Salt     1.0      4.0      2.0     4.0        8.0\n",
       "                Sugar    3.0      4.0      4.0    10.0       13.0"
      ]
     },
     "execution_count": 23,
     "metadata": {},
     "output_type": "execute_result"
    }
   ],
   "source": [
    "data = data.pivot_table(index=['name','product', 'customer'], aggfunc='size').unstack().fillna(0)\n",
    "data"
   ]
  },
  {
   "cell_type": "markdown",
   "metadata": {},
   "source": [
    "Visualize repartition of events per customer and product:"
   ]
  },
  {
   "cell_type": "code",
   "execution_count": 24,
   "metadata": {},
   "outputs": [
    {
     "data": {
      "image/png": "[encoded data removed]",
      "text/plain": [
       "<Figure size 432x288 with 2 Axes>"
      ]
     },
     "metadata": {
      "needs_background": "light"
     },
     "output_type": "display_data"
    }
   ],
   "source": [
    "fig, axs = plt.subplots(1, 2)\n",
    "\n",
    "x_limit = max(data.loc['product_watched'].sum().max(), \n",
    "              data.loc['product_bought'].sum().max()) + 1\n",
    "\n",
    "def setup_chart(ax, event_name):\n",
    "    sugars = data.loc[event_name].loc['Sugar']\n",
    "    salts = data.loc[event_name].loc['Salt']\n",
    "    peppers = data.loc[event_name].loc['Pepper']\n",
    "    \n",
    "    ax.barh(data.columns, sugars, 0.5, label='Sugar')\n",
    "    ax.barh(data.columns, salts, 0.5, label='Salt', left=sugars)\n",
    "    ax.barh(data.columns, peppers, 0.5, label='Pepper', left=sugars + salts)\n",
    "    ax.set_xlabel(f'Amount of {event_name}')\n",
    "    ax.set_xlim(right=x_limit)\n",
    "    ax.legend()\n",
    "\n",
    "setup_chart(axs[0], 'product_watched')    \n",
    "setup_chart(axs[1], 'product_bought')\n",
    "\n",
    "plt.subplots_adjust(right=2)\n",
    "plt.show()"
   ]
  },
  {
   "cell_type": "code",
   "execution_count": null,
   "metadata": {},
   "outputs": [],
   "source": []
  }
 ],
 "metadata": {
  "kernelspec": {
   "display_name": "Python 3",
   "language": "python",
   "name": "python3"
  },
  "language_info": {
   "codemirror_mode": {
    "name": "ipython",
    "version": 3
   },
   "file_extension": ".py",
   "mimetype": "text/x-python",
   "name": "python",
   "nbconvert_exporter": "python",
   "pygments_lexer": "ipython3",
   "version": "3.8.1"
  }
 },
 "nbformat": 4,
 "nbformat_minor": 4
}
